{
 "cells": [
  {
   "cell_type": "markdown",
   "metadata": {},
   "source": [
    "<h1 align=\"center\" style=\"color:Gray\">Neural Network Visualizer Web App with Streamlit and Python</h1>"
   ]
  },
  {
   "cell_type": "markdown",
   "metadata": {},
   "source": [
    "![](Decorator/Neural_Network_Visualizer_Front.png)"
   ]
  },
  {
   "cell_type": "markdown",
   "metadata": {},
   "source": [
    " ***"
   ]
  },
  {
   "cell_type": "markdown",
   "metadata": {},
   "source": [
    "## Import Libraries"
   ]
  },
  {
   "cell_type": "code",
   "execution_count": 1,
   "metadata": {
    "scrolled": true
   },
   "outputs": [],
   "source": [
    "%matplotlib inline\n",
    "\n",
    "import numpy as np\n",
    "import tensorflow as tf\n",
    "import matplotlib.pyplot as plt"
   ]
  },
  {
   "cell_type": "markdown",
   "metadata": {},
   "source": [
    "  "
   ]
  },
  {
   "cell_type": "markdown",
   "metadata": {},
   "source": [
    "## Download Data"
   ]
  },
  {
   "cell_type": "code",
   "execution_count": 2,
   "metadata": {},
   "outputs": [],
   "source": [
    "(x_train, y_train), (x_test, y_test) = tf.keras.datasets.mnist.load_data()"
   ]
  },
  {
   "cell_type": "markdown",
   "metadata": {},
   "source": [
    "  "
   ]
  },
  {
   "cell_type": "markdown",
   "metadata": {},
   "source": [
    "## Plot Example"
   ]
  },
  {
   "cell_type": "code",
   "execution_count": 3,
   "metadata": {},
   "outputs": [
    {
     "data": {
      "image/png": "[encoded data removed]",
      "text/plain": [
       "<Figure size 864x576 with 16 Axes>"
      ]
     },
     "metadata": {
      "needs_background": "light"
     },
     "output_type": "display_data"
    }
   ],
   "source": [
    "plt.figure(figsize=(12,8))\n",
    "\n",
    "for i in range(16):\n",
    "    plt.subplot(4, 4, i+1)\n",
    "    plt.imshow(x_train[i], cmap='binary')\n",
    "    plt.xlabel(str(y_train[i]))\n",
    "    plt.xticks([])\n",
    "    plt.yticks=([])\n",
    "plt.show()"
   ]
  },
  {
   "cell_type": "markdown",
   "metadata": {},
   "source": [
    "  "
   ]
  },
  {
   "cell_type": "markdown",
   "metadata": {},
   "source": [
    "## Normalize Data"
   ]
  },
  {
   "cell_type": "code",
   "execution_count": 4,
   "metadata": {},
   "outputs": [
    {
     "data": {
      "text/plain": [
       "(60000, 28, 28)"
      ]
     },
     "execution_count": 4,
     "metadata": {},
     "output_type": "execute_result"
    }
   ],
   "source": [
    "x_train.shape"
   ]
  },
  {
   "cell_type": "code",
   "execution_count": 5,
   "metadata": {},
   "outputs": [],
   "source": [
    "x_train = np.reshape(x_train, (60000,28*28))\n",
    "x_test = np.reshape(x_test, (10000,28*28))\n",
    "\n",
    "#change the pixal size from 0-255 to 0-1\n",
    "x_train = x_train/255.0\n",
    "x_test = x_test/255.0"
   ]
  },
  {
   "cell_type": "code",
   "execution_count": 6,
   "metadata": {},
   "outputs": [
    {
     "data": {
      "text/plain": [
       "(60000, 784)"
      ]
     },
     "execution_count": 6,
     "metadata": {},
     "output_type": "execute_result"
    }
   ],
   "source": [
    "x_train.shape"
   ]
  },
  {
   "cell_type": "markdown",
   "metadata": {},
   "source": [
    "  "
   ]
  },
  {
   "cell_type": "markdown",
   "metadata": {},
   "source": [
    "## Create a Nural Network Model"
   ]
  },
  {
   "cell_type": "code",
   "execution_count": 7,
   "metadata": {},
   "outputs": [],
   "source": [
    "model = tf.keras.models.Sequential([\n",
    "    tf.keras.layers.Dense(32, activation='sigmoid', input_shape=(784, )),\n",
    "    tf.keras.layers.Dense(32, activation='sigmoid'),\n",
    "    tf.keras.layers.Dense(10, activation='softmax')\n",
    "])\n",
    "\n",
    "model.compile(\n",
    "    loss = 'sparse_categorical_crossentropy',\n",
    "    optimizer='adam',\n",
    "    metrics=['accuracy']\n",
    ")"
   ]
  },
  {
   "cell_type": "markdown",
   "metadata": {},
   "source": [
    "  "
   ]
  },
  {
   "cell_type": "markdown",
   "metadata": {},
   "source": [
    "## Train the Model"
   ]
  },
  {
   "cell_type": "code",
   "execution_count": 8,
   "metadata": {},
   "outputs": [
    {
     "name": "stdout",
     "output_type": "stream",
     "text": [
      "Train on 60000 samples, validate on 10000 samples\n",
      "Epoch 1/20\n",
      " - 3s - loss: 2.2135 - acc: 0.2925 - val_loss: 2.0233 - val_acc: 0.5975\n",
      "Epoch 2/20\n",
      " - 2s - loss: 1.8357 - acc: 0.6465 - val_loss: 1.6229 - val_acc: 0.6836\n",
      "Epoch 3/20\n",
      " - 2s - loss: 1.4334 - acc: 0.7330 - val_loss: 1.2450 - val_acc: 0.7836\n",
      "Epoch 4/20\n",
      " - 2s - loss: 1.1007 - acc: 0.8084 - val_loss: 0.9633 - val_acc: 0.8436\n",
      "Epoch 5/20\n",
      " - 2s - loss: 0.8647 - acc: 0.8516 - val_loss: 0.7702 - val_acc: 0.8695\n",
      "Epoch 6/20\n",
      " - 2s - loss: 0.7045 - acc: 0.8725 - val_loss: 0.6387 - val_acc: 0.8843\n",
      "Epoch 7/20\n",
      " - 2s - loss: 0.5951 - acc: 0.8846 - val_loss: 0.5485 - val_acc: 0.8916\n",
      "Epoch 8/20\n",
      " - 2s - loss: 0.5177 - acc: 0.8934 - val_loss: 0.4833 - val_acc: 0.8967\n",
      "Epoch 9/20\n",
      " - 2s - loss: 0.4606 - acc: 0.8998 - val_loss: 0.4339 - val_acc: 0.9037\n",
      "Epoch 10/20\n",
      " - 2s - loss: 0.4164 - acc: 0.9056 - val_loss: 0.3954 - val_acc: 0.9084\n",
      "Epoch 11/20\n",
      " - 2s - loss: 0.3816 - acc: 0.9109 - val_loss: 0.3650 - val_acc: 0.9131\n",
      "Epoch 12/20\n",
      " - 2s - loss: 0.3534 - acc: 0.9146 - val_loss: 0.3404 - val_acc: 0.9165\n",
      "Epoch 13/20\n",
      " - 2s - loss: 0.3298 - acc: 0.9185 - val_loss: 0.3204 - val_acc: 0.9189\n",
      "Epoch 14/20\n",
      " - 2s - loss: 0.3102 - acc: 0.9219 - val_loss: 0.3032 - val_acc: 0.9215\n",
      "Epoch 15/20\n",
      " - 2s - loss: 0.2935 - acc: 0.9252 - val_loss: 0.2892 - val_acc: 0.9234\n",
      "Epoch 16/20\n",
      " - 2s - loss: 0.2793 - acc: 0.9281 - val_loss: 0.2768 - val_acc: 0.9257\n",
      "Epoch 17/20\n",
      " - 2s - loss: 0.2665 - acc: 0.9304 - val_loss: 0.2661 - val_acc: 0.9284\n",
      "Epoch 18/20\n",
      " - 2s - loss: 0.2554 - acc: 0.9331 - val_loss: 0.2566 - val_acc: 0.9310\n",
      "Epoch 19/20\n",
      " - 2s - loss: 0.2456 - acc: 0.9352 - val_loss: 0.2485 - val_acc: 0.9316\n",
      "Epoch 20/20\n",
      " - 2s - loss: 0.2366 - acc: 0.9372 - val_loss: 0.2408 - val_acc: 0.9345\n"
     ]
    }
   ],
   "source": [
    "_ = model.fit(\n",
    "    x_train, y_train,\n",
    "    validation_data=(x_test, y_test),\n",
    "    epochs=20, batch_size=1024,\n",
    "    verbose=2\n",
    ")"
   ]
  },
  {
   "cell_type": "markdown",
   "metadata": {},
   "source": [
    "## Save the Model"
   ]
  },
  {
   "cell_type": "code",
   "execution_count": 9,
   "metadata": {},
   "outputs": [],
   "source": [
    "model.save('model.h5')"
   ]
  },
  {
   "cell_type": "markdown",
   "metadata": {},
   "source": [
    " "
   ]
  },
  {
   "cell_type": "markdown",
   "metadata": {},
   "source": [
    "## ML Server"
   ]
  },
  {
   "cell_type": "code",
   "execution_count": 10,
   "metadata": {},
   "outputs": [],
   "source": [
    "#model_server <POST> web app"
   ]
  },
  {
   "cell_type": "code",
   "execution_count": 1,
   "metadata": {},
   "outputs": [
    {
     "name": "stdout",
     "output_type": "stream",
     "text": [
      "Overwriting ml_server.py\n"
     ]
    }
   ],
   "source": [
    "%%writefile ml_server.py\n",
    "\n",
    "import json\n",
    "import tensorflow as tf\n",
    "import numpy as np\n",
    "import os\n",
    "import random\n",
    "import string\n",
    "\n",
    "from flask import Flask, request\n",
    "\n",
    "app = Flask(__name__)\n",
    "\n",
    "model = tf.keras.models.load_model('model.h5')\n",
    "feature_model = tf.keras.models.Model(model.inputs,[layer.output for layer in model.layers])\n",
    "\n",
    "_, (x_test, _) = tf.keras.datasets.mnist.load_data()\n",
    "x_test = x_test/255.0\n",
    "\n",
    "def get_prediction():\n",
    "    index = np.random.choice(x_test.shape[0])\n",
    "    image = x_test[index,:,:]\n",
    "    image_arr = np.reshape(image, (1, 784))\n",
    "    return feature_model.predict(image_arr), image\n",
    "\n",
    "@app.route('/', methods=['GET','POST'])\n",
    "def index():\n",
    "    if request.method == 'POST':\n",
    "        preds, image = get_prediction()\n",
    "        final_preds = [p.tolist() for p in preds]\n",
    "        return json.dumps({'prediction': final_preds, 'image': image.tolist()})\n",
    "    return 'Welcome to the model server!'\n",
    "\n",
    "if __name__ == '__main__':\n",
    "    app.run()  \n",
    "    "
   ]
  },
  {
   "cell_type": "markdown",
   "metadata": {},
   "source": [
    "  "
   ]
  },
  {
   "cell_type": "markdown",
   "metadata": {},
   "source": [
    "## Streamlit Web App"
   ]
  },
  {
   "cell_type": "code",
   "execution_count": 2,
   "metadata": {},
   "outputs": [
    {
     "name": "stdout",
     "output_type": "stream",
     "text": [
      "Overwriting app.py\n"
     ]
    }
   ],
   "source": [
    "%%writefile app.py\n",
    "\n",
    "import requests\n",
    "import streamlit as st\n",
    "import json\n",
    "import matplotlib.pyplot as plt\n",
    "import numpy as np\n",
    "import os\n",
    "\n",
    "URI = 'http://127.0.0.1:5000/'\n",
    "\n",
    "st.title('Nural Network Visualizer')\n",
    "st.sidebar.markdown('# Input Image')\n",
    "\n",
    "if st.button('Get random prediction'):\n",
    "    response = requests.post(URI, data={})\n",
    "    st.write(response.text)\n",
    "    response = json.loads(response.text)\n",
    "    #response = response.json()\n",
    "    preds = response.get('prediction')\n",
    "    image = response.get('image')\n",
    "    image = np.reshape(image, (28, 28))\n",
    "    st.sidebar.image(image, width=150)\n",
    "    \n",
    "    for layer, p in enumerate(preds):\n",
    "        \n",
    "        numbers = np.squeeze(np.array(p))\n",
    "        \n",
    "        plt.figure(figsize=(32,4))\n",
    "        \n",
    "        if layer ==2:\n",
    "            row=1\n",
    "            col=10\n",
    "        else:\n",
    "            row=2\n",
    "            col=16\n",
    "        for i, number in enumerate(numbers):\n",
    "            plt.subplot(row, col, i+1)\n",
    "            plt.imshow((number * np.ones((8, 8, 3))).astype('float32'), cmap='binary')\n",
    "            plt.xticks([])\n",
    "            plt.yticks([])\n",
    "            \n",
    "            if layer==2:\n",
    "                plt.xlabel(str(i), fontsize=40)\n",
    "        plt.subplots_adjust(wspace=0.05, hspace=0.05)\n",
    "        plt.tight_layout()\n",
    "        st.text('Layer {}'.format(layer+1))\n",
    "        st.pyplot()"
   ]
  },
  {
   "cell_type": "markdown",
   "metadata": {},
   "source": [
    " "
   ]
  },
  {
   "cell_type": "markdown",
   "metadata": {},
   "source": [
    "## **Sample Output of the Application**\n",
    "![](Decorator/Neural_Network_Visualizer_Sample.png)"
   ]
  },
  {
   "cell_type": "markdown",
   "metadata": {},
   "source": [
    "***\n",
    "***\n",
    "<h1 align=\"center\"><del>END</del></h1>"
   ]
  }
 ],
 "metadata": {
  "kernelspec": {
   "display_name": "Python 3",
   "language": "python",
   "name": "python3"
  },
  "language_info": {
   "codemirror_mode": {
    "name": "ipython",
    "version": 3
   },
   "file_extension": ".py",
   "mimetype": "text/x-python",
   "name": "python",
   "nbconvert_exporter": "python",
   "pygments_lexer": "ipython3",
   "version": "3.6.10"
  }
 },
 "nbformat": 4,
 "nbformat_minor": 4
}
